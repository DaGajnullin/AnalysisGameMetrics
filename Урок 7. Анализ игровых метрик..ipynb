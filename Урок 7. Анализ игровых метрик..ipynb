{
 "cells": [
  {
   "cell_type": "code",
   "execution_count": 1,
   "id": "f2be85ad",
   "metadata": {},
   "outputs": [],
   "source": [
    "HOST = '37.139.42.145'\n",
    "DBNAME = 'game-analytics'\n",
    "USER = 'analytics'\n",
    "PASSWORD = '88005553535'\n",
    "import pandas as pd\n",
    "import numpy as np\n",
    "from sqlalchemy import create_engine\n",
    "engine = create_engine(f'postgresql://{USER}:{PASSWORD}@{HOST}/{DBNAME}')\n",
    "TABLE_SCHEMA ='data_viz_1068.project_dataset'"
   ]
  },
  {
   "cell_type": "code",
   "execution_count": 2,
   "id": "7c273cce",
   "metadata": {},
   "outputs": [
    {
     "data": {
      "text/html": [
       "<div>\n",
       "<style scoped>\n",
       "    .dataframe tbody tr th:only-of-type {\n",
       "        vertical-align: middle;\n",
       "    }\n",
       "\n",
       "    .dataframe tbody tr th {\n",
       "        vertical-align: top;\n",
       "    }\n",
       "\n",
       "    .dataframe thead th {\n",
       "        text-align: right;\n",
       "    }\n",
       "</style>\n",
       "<table border=\"1\" class=\"dataframe\">\n",
       "  <thead>\n",
       "    <tr style=\"text-align: right;\">\n",
       "      <th></th>\n",
       "      <th>life_time</th>\n",
       "      <th>platform</th>\n",
       "      <th>region</th>\n",
       "      <th>retention</th>\n",
       "      <th>sessions</th>\n",
       "    </tr>\n",
       "  </thead>\n",
       "  <tbody>\n",
       "    <tr>\n",
       "      <th>0</th>\n",
       "      <td>0.0</td>\n",
       "      <td>android</td>\n",
       "      <td>CIS</td>\n",
       "      <td>1.000000</td>\n",
       "      <td>2.208775</td>\n",
       "    </tr>\n",
       "    <tr>\n",
       "      <th>1</th>\n",
       "      <td>0.0</td>\n",
       "      <td>ios</td>\n",
       "      <td>North America</td>\n",
       "      <td>1.000000</td>\n",
       "      <td>2.110306</td>\n",
       "    </tr>\n",
       "    <tr>\n",
       "      <th>2</th>\n",
       "      <td>0.0</td>\n",
       "      <td>android</td>\n",
       "      <td>North America</td>\n",
       "      <td>1.000000</td>\n",
       "      <td>2.403149</td>\n",
       "    </tr>\n",
       "    <tr>\n",
       "      <th>3</th>\n",
       "      <td>0.0</td>\n",
       "      <td>ios</td>\n",
       "      <td>CIS</td>\n",
       "      <td>1.000000</td>\n",
       "      <td>2.027362</td>\n",
       "    </tr>\n",
       "    <tr>\n",
       "      <th>4</th>\n",
       "      <td>1.0</td>\n",
       "      <td>android</td>\n",
       "      <td>North America</td>\n",
       "      <td>0.097194</td>\n",
       "      <td>4.809859</td>\n",
       "    </tr>\n",
       "    <tr>\n",
       "      <th>...</th>\n",
       "      <td>...</td>\n",
       "      <td>...</td>\n",
       "      <td>...</td>\n",
       "      <td>...</td>\n",
       "      <td>...</td>\n",
       "    </tr>\n",
       "    <tr>\n",
       "      <th>239</th>\n",
       "      <td>59.0</td>\n",
       "      <td>ios</td>\n",
       "      <td>North America</td>\n",
       "      <td>0.002718</td>\n",
       "      <td>59.416667</td>\n",
       "    </tr>\n",
       "    <tr>\n",
       "      <th>240</th>\n",
       "      <td>60.0</td>\n",
       "      <td>ios</td>\n",
       "      <td>CIS</td>\n",
       "      <td>0.001637</td>\n",
       "      <td>134.571429</td>\n",
       "    </tr>\n",
       "    <tr>\n",
       "      <th>241</th>\n",
       "      <td>60.0</td>\n",
       "      <td>ios</td>\n",
       "      <td>North America</td>\n",
       "      <td>0.002492</td>\n",
       "      <td>116.363636</td>\n",
       "    </tr>\n",
       "    <tr>\n",
       "      <th>242</th>\n",
       "      <td>60.0</td>\n",
       "      <td>android</td>\n",
       "      <td>CIS</td>\n",
       "      <td>0.002368</td>\n",
       "      <td>96.947368</td>\n",
       "    </tr>\n",
       "    <tr>\n",
       "      <th>243</th>\n",
       "      <td>60.0</td>\n",
       "      <td>android</td>\n",
       "      <td>North America</td>\n",
       "      <td>0.002738</td>\n",
       "      <td>26.500000</td>\n",
       "    </tr>\n",
       "  </tbody>\n",
       "</table>\n",
       "<p>244 rows × 5 columns</p>\n",
       "</div>"
      ],
      "text/plain": [
       "     life_time platform         region  retention    sessions\n",
       "0          0.0  android            CIS   1.000000    2.208775\n",
       "1          0.0      ios  North America   1.000000    2.110306\n",
       "2          0.0  android  North America   1.000000    2.403149\n",
       "3          0.0      ios            CIS   1.000000    2.027362\n",
       "4          1.0  android  North America   0.097194    4.809859\n",
       "..         ...      ...            ...        ...         ...\n",
       "239       59.0      ios  North America   0.002718   59.416667\n",
       "240       60.0      ios            CIS   0.001637  134.571429\n",
       "241       60.0      ios  North America   0.002492  116.363636\n",
       "242       60.0  android            CIS   0.002368   96.947368\n",
       "243       60.0  android  North America   0.002738   26.500000\n",
       "\n",
       "[244 rows x 5 columns]"
      ]
     },
     "execution_count": 2,
     "metadata": {},
     "output_type": "execute_result"
    }
   ],
   "source": [
    "df=pd.read_sql(f'''\n",
    "with data as\n",
    "(select event_time, platform,  user_id, event_name,\n",
    "    min(event_time) filter (WHERE event_name = 'FirstLaunchApp') OVER (PARTITION BY user_id) as install_time, \n",
    "    case when country in ('RU', 'BY','TJ','KG', 'AM', 'AZ', 'UZ') then 'CIS'\n",
    "    when country in ('US', 'CA') then 'North America' else 'other' end as region\n",
    "from data_viz_1068.project_dataset\n",
    "where user_id in \n",
    "        (select user_id\n",
    "         from data_viz_1068.project_dataset\n",
    "         where event_name = 'FirstLaunchApp'))\n",
    " \n",
    " select  life_time ,platform, region, cast(users as float)/cast(installs as float) as retention, sessions\n",
    " from\n",
    "(select life_time, count(distinct user_id) as users, platform, region,  \n",
    "max(count(distinct user_id)) over (partition by platform, region) as installs, avg(sessions) as sessions\n",
    "from \n",
    "(select user_id, platform, region, count(*) filter (where lower(event_name) like '%%launch%%') as sessions,\n",
    "   max (extract(day from date_trunc ('days', event_time-install_time))) as life_time\n",
    "from data\n",
    "group by user_id, platform, region) as y\n",
    "where life_time between '0' and '60' and region !='other'\n",
    "group by life_time ,platform, region) as s\n",
    "order by life_time\n",
    "''', con=engine)\n",
    "df"
   ]
  },
  {
   "cell_type": "code",
   "execution_count": 3,
   "id": "01115246",
   "metadata": {},
   "outputs": [],
   "source": [
    "df1=df[(df['platform']=='android') & (df['region']=='CIS')]"
   ]
  },
  {
   "cell_type": "code",
   "execution_count": 4,
   "id": "84de9b29",
   "metadata": {},
   "outputs": [],
   "source": [
    "df2=df[(df['platform']=='android') & (df['region']=='North America')]"
   ]
  },
  {
   "cell_type": "code",
   "execution_count": 5,
   "id": "375fc068",
   "metadata": {},
   "outputs": [],
   "source": [
    "df3=df[(df['platform']=='ios') & (df['region']=='CIS')]"
   ]
  },
  {
   "cell_type": "code",
   "execution_count": 6,
   "id": "8dec2bc7",
   "metadata": {},
   "outputs": [],
   "source": [
    "df4=df[(df['platform']=='ios') & (df['region']=='North America')]"
   ]
  },
  {
   "cell_type": "code",
   "execution_count": 7,
   "id": "f25dd48f",
   "metadata": {},
   "outputs": [
    {
     "data": {
      "text/plain": [
       "-0.2613751076458563"
      ]
     },
     "execution_count": 7,
     "metadata": {},
     "output_type": "execute_result"
    }
   ],
   "source": [
    "#Android CIS\n",
    "np.corrcoef(df1['retention'], df1['sessions'])[0][1]"
   ]
  },
  {
   "cell_type": "code",
   "execution_count": 8,
   "id": "eae697ad",
   "metadata": {},
   "outputs": [
    {
     "data": {
      "text/plain": [
       "-0.1791096855558435"
      ]
     },
     "execution_count": 8,
     "metadata": {},
     "output_type": "execute_result"
    }
   ],
   "source": [
    "#Android NA\n",
    "np.corrcoef(df2['retention'], df2['sessions'])[0][1]"
   ]
  },
  {
   "cell_type": "code",
   "execution_count": 9,
   "id": "7c0eac6a",
   "metadata": {},
   "outputs": [
    {
     "data": {
      "text/plain": [
       "-0.210793117752318"
      ]
     },
     "execution_count": 9,
     "metadata": {},
     "output_type": "execute_result"
    }
   ],
   "source": [
    "#iOS CIS\n",
    "np.corrcoef(df3['retention'], df3['sessions'])[0][1]"
   ]
  },
  {
   "cell_type": "code",
   "execution_count": 10,
   "id": "93bcb8f4",
   "metadata": {},
   "outputs": [
    {
     "data": {
      "text/plain": [
       "-0.21602652739348266"
      ]
     },
     "execution_count": 10,
     "metadata": {},
     "output_type": "execute_result"
    }
   ],
   "source": [
    "#iOS NA\n",
    "np.corrcoef(df4['retention'], df4['sessions'])[0][1]"
   ]
  },
  {
   "cell_type": "markdown",
   "id": "f0c98633",
   "metadata": {},
   "source": [
    "Вывод: Отрицательные числа свидетельствуют об обратной корреляции, то есть обратной зависимости. Чем выше значение одного показателя, тем ниже значение другого и наоборот. По числам можно заметить, что понижении retention, ведет к повышению среднего количества сессий. Из нашего примера видно, что на платформах андроид в странах СНГ, самая сильная корреляция, а на той же платформе в Северной Америке, самая слабая."
   ]
  },
  {
   "cell_type": "code",
   "execution_count": null,
   "id": "aa667e47",
   "metadata": {},
   "outputs": [],
   "source": []
  }
 ],
 "metadata": {
  "kernelspec": {
   "display_name": "Python 3",
   "language": "python",
   "name": "python3"
  },
  "language_info": {
   "codemirror_mode": {
    "name": "ipython",
    "version": 3
   },
   "file_extension": ".py",
   "mimetype": "text/x-python",
   "name": "python",
   "nbconvert_exporter": "python",
   "pygments_lexer": "ipython3",
   "version": "3.8.8"
  }
 },
 "nbformat": 4,
 "nbformat_minor": 5
}
